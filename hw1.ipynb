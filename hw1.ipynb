{
 "cells": [
  {
   "cell_type": "code",
   "execution_count": 14,
   "id": "6d1b4377",
   "metadata": {},
   "outputs": [],
   "source": [
    "class Test:\n",
    "    @staticmethod\n",
    "    def assert_equals(a, b, *args, **kwargs):\n",
    "        assert a == b\n",
    "        print('Passed')\n",
    "    "
   ]
  },
  {
   "cell_type": "markdown",
   "id": "c581ef2f",
   "metadata": {},
   "source": [
    "https://edabit.com/challenge/cXnkmRdxqJrwdsP4n"
   ]
  },
  {
   "cell_type": "code",
   "execution_count": 15,
   "id": "0063ce0e",
   "metadata": {},
   "outputs": [],
   "source": [
    "def dis(price, discount):\n",
    "    newper = (100-discount)*0.01\n",
    "    return price*newper"
   ]
  },
  {
   "cell_type": "code",
   "execution_count": 16,
   "id": "4ccc9b04",
   "metadata": {},
   "outputs": [
    {
     "name": "stdout",
     "output_type": "stream",
     "text": [
      "Passed\n",
      "Passed\n",
      "Passed\n",
      "Passed\n",
      "Passed\n"
     ]
    }
   ],
   "source": [
    "Test.assert_equals(dis(100, 75), 25)\n",
    "Test.assert_equals(dis(211, 50), 105.5)\n",
    "Test.assert_equals(dis(593, 61), 231.27)\n",
    "Test.assert_equals(dis(1693, 80), 338.6)\n",
    "Test.assert_equals(dis(700, 10), 630)"
   ]
  },
  {
   "cell_type": "markdown",
   "id": "63ba6e97",
   "metadata": {},
   "source": [
    "https://edabit.com/challenge/2X2uZysLJ3CpsxLDD"
   ]
  },
  {
   "cell_type": "code",
   "execution_count": 27,
   "id": "8fe2c28b",
   "metadata": {},
   "outputs": [],
   "source": [
    "def radians_to_degrees(rad):\n",
    "    from math import pi\n",
    "    return round(rad/pi*180,1)"
   ]
  },
  {
   "cell_type": "code",
   "execution_count": 28,
   "id": "4cac566f",
   "metadata": {},
   "outputs": [
    {
     "name": "stdout",
     "output_type": "stream",
     "text": [
      "Passed\n",
      "Passed\n",
      "Passed\n",
      "Passed\n",
      "Passed\n",
      "Passed\n"
     ]
    }
   ],
   "source": [
    "Test.assert_equals(radians_to_degrees(1), 57.3)\n",
    "Test.assert_equals(radians_to_degrees(5), 286.5)\n",
    "Test.assert_equals(radians_to_degrees(7), 401.1)\n",
    "Test.assert_equals(radians_to_degrees(60), 3437.7)\n",
    "Test.assert_equals(radians_to_degrees(100), 5729.6)\n",
    "Test.assert_equals(radians_to_degrees(180), 10313.2)"
   ]
  },
  {
   "cell_type": "markdown",
   "id": "62712df4",
   "metadata": {},
   "source": [
    "https://edabit.com/challenge/2zKetgAJp4WRFXiDT"
   ]
  },
  {
   "cell_type": "code",
   "execution_count": 29,
   "id": "b7a143cd",
   "metadata": {},
   "outputs": [],
   "source": [
    "def number_length(num):\n",
    "    length = 0\n",
    "    if num == 0:\n",
    "        return 1\n",
    "    else:\n",
    "        while num > 0:\n",
    "            num//=10\n",
    "            length += 1\n",
    "        return length"
   ]
  },
  {
   "cell_type": "code",
   "execution_count": 30,
   "id": "f80534c7",
   "metadata": {},
   "outputs": [
    {
     "name": "stdout",
     "output_type": "stream",
     "text": [
      "Passed\n",
      "Passed\n",
      "Passed\n",
      "Passed\n",
      "Passed\n",
      "Passed\n",
      "Passed\n"
     ]
    }
   ],
   "source": [
    "Test.assert_equals(number_length(10), 2)\n",
    "Test.assert_equals(number_length(5000), 4)\n",
    "Test.assert_equals(number_length(0), 1)\n",
    "Test.assert_equals(number_length(4039182), 7)\n",
    "Test.assert_equals(number_length(9999999999999999), 16)\n",
    "Test.assert_equals(number_length(1), 1)\n",
    "Test.assert_equals(number_length(777777777777777777777777777777), 30)"
   ]
  },
  {
   "cell_type": "markdown",
   "id": "3e5c9c3b",
   "metadata": {},
   "source": [
    " https://edabit.com/challenge/4me7LifXBwj5rhL4n"
   ]
  },
  {
   "cell_type": "code",
   "execution_count": 32,
   "id": "fb57fa80",
   "metadata": {},
   "outputs": [],
   "source": [
    "def circle_or_square(rad, area):\n",
    "    import math\n",
    "    from math import pi\n",
    "    ar = round(2*pi*rad, 2)\n",
    "    per = math.sqrt(area)*4\n",
    "    return ar > per"
   ]
  },
  {
   "cell_type": "code",
   "execution_count": 33,
   "id": "cc7a2355",
   "metadata": {},
   "outputs": [
    {
     "name": "stdout",
     "output_type": "stream",
     "text": [
      "Passed\n",
      "Passed\n",
      "Passed\n",
      "Passed\n",
      "Passed\n",
      "Passed\n"
     ]
    }
   ],
   "source": [
    "Test.assert_equals(circle_or_square(16, 625), True)\n",
    "Test.assert_equals(circle_or_square(8, 144), True)\n",
    "Test.assert_equals(circle_or_square(15, 400), True)\n",
    "Test.assert_equals(circle_or_square(5, 100), False)\n",
    "Test.assert_equals(circle_or_square(18, 900), False)\n",
    "Test.assert_equals(circle_or_square(1, 4), False)"
   ]
  },
  {
   "cell_type": "markdown",
   "id": "46e8cc8e",
   "metadata": {},
   "source": [
    "https://edabit.com/challenge/HYjQKDXFfeppcWmLX"
   ]
  },
  {
   "cell_type": "code",
   "execution_count": 34,
   "id": "6a4f06a1",
   "metadata": {},
   "outputs": [],
   "source": [
    "def is_curzon(num):\n",
    "    a = 2**num + 1\n",
    "    b = 2*num + 1\n",
    "    res = a%b\n",
    "    return res == 0"
   ]
  },
  {
   "cell_type": "code",
   "execution_count": 35,
   "id": "77f7211b",
   "metadata": {},
   "outputs": [
    {
     "name": "stdout",
     "output_type": "stream",
     "text": [
      "Passed\n",
      "Passed\n",
      "Passed\n",
      "Passed\n",
      "Passed\n",
      "Passed\n",
      "Passed\n",
      "Passed\n",
      "Passed\n"
     ]
    }
   ],
   "source": [
    "Test.assert_equals(is_curzon(5), True)\n",
    "Test.assert_equals(is_curzon(10), False)\n",
    "Test.assert_equals(is_curzon(14), True)\n",
    "Test.assert_equals(is_curzon(86), True)\n",
    "Test.assert_equals(is_curzon(90), True)\n",
    "Test.assert_equals(is_curzon(115), False)\n",
    "Test.assert_equals(is_curzon(120), False)\n",
    "Test.assert_equals(is_curzon(194), True)\n",
    "Test.assert_equals(is_curzon(293), True)"
   ]
  },
  {
   "cell_type": "markdown",
   "id": "db927bc0",
   "metadata": {},
   "source": [
    "https://edabit.com/challenge/gzmFeaXwFv8X6pBGq"
   ]
  },
  {
   "cell_type": "code",
   "execution_count": 36,
   "id": "bd537efe",
   "metadata": {},
   "outputs": [],
   "source": [
    "def series_resistance(lst):\n",
    "    res = sum(lst)\n",
    "    if res > 1:\n",
    "        return str(res)+' ohms'\n",
    "    else:\n",
    "        return str(res)+' ohm'"
   ]
  },
  {
   "cell_type": "code",
   "execution_count": 37,
   "id": "d7fa27dc",
   "metadata": {},
   "outputs": [
    {
     "name": "stdout",
     "output_type": "stream",
     "text": [
      "Passed\n",
      "Passed\n",
      "Passed\n",
      "Passed\n",
      "Passed\n",
      "Passed\n",
      "Passed\n",
      "Passed\n",
      "Passed\n"
     ]
    }
   ],
   "source": [
    "Test.assert_equals(series_resistance([1, 5, 6, 3]), \"15 ohms\")\n",
    "Test.assert_equals(series_resistance([0.2, 0.3, 0.4]), \"0.9 ohm\")\n",
    "Test.assert_equals(series_resistance([10,12, 1, 10]), \"33 ohms\")\n",
    "Test.assert_equals(series_resistance([10,13, 3.8, 20, 10]), \"56.8 ohms\")\n",
    "Test.assert_equals(series_resistance([0.5, 0.5]), \"1.0 ohm\")\n",
    "Test.assert_equals(series_resistance([16, 30, 22.8, 4]), \"72.8 ohms\")\n",
    "Test.assert_equals(series_resistance([20, 15, 32.5, 2]), \"69.5 ohms\")\n",
    "Test.assert_equals(series_resistance([52, 22, 20, 30]), \"124 ohms\")\n",
    "Test.assert_equals(series_resistance([10, 12, 32, 4.9, 5, 6, 71]), \"140.9 ohms\")"
   ]
  },
  {
   "cell_type": "markdown",
   "id": "9860553e",
   "metadata": {},
   "source": [
    "https://edabit.com/challenge/MhQbon8XzsG3wJHdP\n"
   ]
  },
  {
   "cell_type": "code",
   "execution_count": 38,
   "id": "ab3ae016",
   "metadata": {},
   "outputs": [],
   "source": [
    "def solve_for_exp(a, b):\n",
    "    power = 1\n",
    "    while a ** power != b:\n",
    "        power += 1\n",
    "    return power"
   ]
  },
  {
   "cell_type": "code",
   "execution_count": 39,
   "id": "7634fae4",
   "metadata": {},
   "outputs": [
    {
     "name": "stdout",
     "output_type": "stream",
     "text": [
      "Passed\n",
      "Passed\n",
      "Passed\n",
      "Passed\n",
      "Passed\n",
      "Passed\n",
      "Passed\n"
     ]
    }
   ],
   "source": [
    "Test.assert_equals(solve_for_exp(4, 1024), 5)\n",
    "Test.assert_equals(solve_for_exp(2, 1024), 10)\n",
    "Test.assert_equals(solve_for_exp(9, 3486784401), 10)\n",
    "Test.assert_equals(solve_for_exp(4, 4294967296), 16)\n",
    "Test.assert_equals(solve_for_exp(8, 134217728), 9)\n",
    "Test.assert_equals(solve_for_exp(19, 47045881), 6)\n",
    "Test.assert_equals(solve_for_exp(10, 100000000), 8)"
   ]
  },
  {
   "cell_type": "markdown",
   "id": "3d94f6d8",
   "metadata": {},
   "source": [
    "https://edabit.com/challenge/i6hY9JSjQK4jcaB6i"
   ]
  },
  {
   "cell_type": "code",
   "execution_count": 40,
   "id": "c798b2f3",
   "metadata": {},
   "outputs": [],
   "source": [
    "def color_invert(rgb):\n",
    "    return (255-rgb[0], 255-rgb[1], 255-rgb[2])"
   ]
  },
  {
   "cell_type": "code",
   "execution_count": 41,
   "id": "55024dab",
   "metadata": {},
   "outputs": [
    {
     "name": "stdout",
     "output_type": "stream",
     "text": [
      "Passed\n",
      "Passed\n",
      "Passed\n",
      "Passed\n",
      "Passed\n",
      "Passed\n",
      "Passed\n",
      "Passed\n",
      "Passed\n",
      "Passed\n",
      "Passed\n",
      "Passed\n",
      "Passed\n",
      "Passed\n",
      "Passed\n",
      "Passed\n",
      "Passed\n",
      "Passed\n",
      "Passed\n",
      "Passed\n",
      "Passed\n",
      "Passed\n",
      "Passed\n",
      "Passed\n",
      "Passed\n",
      "Passed\n",
      "Passed\n",
      "Passed\n",
      "Passed\n",
      "Passed\n",
      "Passed\n",
      "Passed\n",
      "Passed\n",
      "Passed\n",
      "Passed\n",
      "Passed\n",
      "Passed\n",
      "Passed\n",
      "Passed\n",
      "Passed\n",
      "Passed\n",
      "Passed\n",
      "Passed\n",
      "Passed\n",
      "Passed\n",
      "Passed\n",
      "Passed\n",
      "Passed\n",
      "Passed\n",
      "Passed\n",
      "Passed\n",
      "Passed\n",
      "Passed\n",
      "Passed\n",
      "Passed\n",
      "Passed\n",
      "Passed\n",
      "Passed\n",
      "Passed\n",
      "Passed\n"
     ]
    }
   ],
   "source": [
    "Test.assert_equals(color_invert((165, 170, 119)), (90, 85, 136))\n",
    "Test.assert_equals(color_invert((165, 170, 136)), (90, 85, 119))\n",
    "Test.assert_equals(color_invert((165, 170, 153)), (90, 85, 102))\n",
    "Test.assert_equals(color_invert((165, 170, 170)), (90, 85, 85))\n",
    "Test.assert_equals(color_invert((165, 170, 187)), (90, 85, 68))\n",
    "Test.assert_equals(color_invert((165, 170, 204)), (90, 85, 51))\n",
    "Test.assert_equals(color_invert((165, 170, 221)), (90, 85, 34))\n",
    "Test.assert_equals(color_invert((165, 170, 238)), (90, 85, 17))\n",
    "Test.assert_equals(color_invert((165, 180, 0)), (90, 75, 255))\n",
    "Test.assert_equals(color_invert((165, 180, 17)), (90, 75, 238))\n",
    "Test.assert_equals(color_invert((165, 180, 34)), (90, 75, 221))\n",
    "Test.assert_equals(color_invert((165, 180, 51)), (90, 75, 204))\n",
    "Test.assert_equals(color_invert((165, 180, 68)), (90, 75, 187))\n",
    "Test.assert_equals(color_invert((165, 180, 85)), (90, 75, 170))\n",
    "Test.assert_equals(color_invert((165, 180, 102)), (90, 75, 153))\n",
    "Test.assert_equals(color_invert((0, 0, 0)), (255, 255, 255))\n",
    "Test.assert_equals(color_invert((0, 0, 17)), (255, 255, 238))\n",
    "Test.assert_equals(color_invert((0, 0, 34)), (255, 255, 221))\n",
    "Test.assert_equals(color_invert((0, 0, 51)), (255, 255, 204))\n",
    "Test.assert_equals(color_invert((0, 0, 68)), (255, 255, 187))\n",
    "Test.assert_equals(color_invert((240, 250, 153)), (15, 5, 102))\n",
    "Test.assert_equals(color_invert((240, 250, 170)), (15, 5, 85))\n",
    "Test.assert_equals(color_invert((240, 250, 187)), (15, 5, 68))\n",
    "Test.assert_equals(color_invert((240, 250, 204)), (15, 5, 51))\n",
    "Test.assert_equals(color_invert((240, 250, 221)), (15, 5, 34))\n",
    "Test.assert_equals(color_invert((240, 250, 238)), (15, 5, 17))\n",
    "Test.assert_equals(color_invert((255, 255, 255)), (0, 0, 0))\n",
    "Test.assert_equals(color_invert((240, 180, 136)), (15, 75, 119))\n",
    "Test.assert_equals(color_invert((240, 180, 153)), (15, 75, 102))\n",
    "Test.assert_equals(color_invert((240, 180, 170)), (15, 75, 85))\n",
    "Test.assert_equals(color_invert((240, 180, 187)), (15, 75, 68))\n",
    "Test.assert_equals(color_invert((240, 180, 204)), (15, 75, 51))\n",
    "Test.assert_equals(color_invert((240, 180, 221)), (15, 75, 34))\n",
    "Test.assert_equals(color_invert((240, 180, 238)), (15, 75, 17))\n",
    "Test.assert_equals(color_invert((240, 190, 0)), (15, 65, 255))\n",
    "Test.assert_equals(color_invert((240, 190, 17)), (15, 65, 238))\n",
    "Test.assert_equals(color_invert((240, 190, 34)), (15, 65, 221))\n",
    "Test.assert_equals(color_invert((240, 190, 51)), (15, 65, 204))\n",
    "Test.assert_equals(color_invert((240, 190, 68)), (15, 65, 187))\n",
    "Test.assert_equals(color_invert((240, 190, 85)), (15, 65, 170))\n",
    "Test.assert_equals(color_invert((240, 190, 102)), (15, 65, 153))\n",
    "Test.assert_equals(color_invert((240, 190, 119)), (15, 65, 136))\n",
    "Test.assert_equals(color_invert((240, 190, 136)), (15, 65, 119))\n",
    "Test.assert_equals(color_invert((240, 190, 153)), (15, 65, 102))\n",
    "Test.assert_equals(color_invert((240, 190, 170)), (15, 65, 85))\n",
    "Test.assert_equals(color_invert((240, 190, 187)), (15, 65, 68))\n",
    "Test.assert_equals(color_invert((240, 190, 204)), (15, 65, 51))\n",
    "Test.assert_equals(color_invert((240, 190, 221)), (15, 65, 34))\n",
    "Test.assert_equals(color_invert((240, 190, 238)), (15, 65, 17))\n",
    "Test.assert_equals(color_invert((240, 200, 0)), (15, 55, 255))\n",
    "Test.assert_equals(color_invert((240, 200, 17)), (15, 55, 238))\n",
    "Test.assert_equals(color_invert((240, 200, 34)), (15, 55, 221))\n",
    "Test.assert_equals(color_invert((240, 200, 51)), (15, 55, 204))\n",
    "Test.assert_equals(color_invert((240, 200, 68)), (15, 55, 187))\n",
    "Test.assert_equals(color_invert((240, 200, 85)), (15, 55, 170))\n",
    "Test.assert_equals(color_invert((240, 200, 102)), (15, 55, 153))\n",
    "Test.assert_equals(color_invert((240, 200, 119)), (15, 55, 136))\n",
    "Test.assert_equals(color_invert((240, 200, 136)), (15, 55, 119))\n",
    "Test.assert_equals(color_invert((240, 200, 153)), (15, 55, 102))\n",
    "Test.assert_equals(color_invert((240, 200, 170)), (15, 55, 85))"
   ]
  },
  {
   "cell_type": "markdown",
   "id": "729e32b2",
   "metadata": {},
   "source": [
    "https://edabit.com/challenge/FF6kYPHdAcJnoosr5"
   ]
  },
  {
   "cell_type": "code",
   "execution_count": 42,
   "id": "56370ca8",
   "metadata": {},
   "outputs": [],
   "source": [
    "def factorial(num):\n",
    "    res = 1\n",
    "    if num == 0:\n",
    "        return 1\n",
    "    else:\n",
    "        while num > 1:\n",
    "            res = res*num\n",
    "            num -= 1\n",
    "        return res"
   ]
  },
  {
   "cell_type": "code",
   "execution_count": 43,
   "id": "225a4857",
   "metadata": {},
   "outputs": [
    {
     "name": "stdout",
     "output_type": "stream",
     "text": [
      "Passed\n",
      "Passed\n",
      "Passed\n",
      "Passed\n",
      "Passed\n"
     ]
    }
   ],
   "source": [
    "Test.assert_equals(factorial(2), 2)\n",
    "Test.assert_equals(factorial(6), 720)\n",
    "Test.assert_equals(factorial(3), 6)\n",
    "Test.assert_equals(factorial(12), 479001600)\n",
    "Test.assert_equals(factorial(5), 120)"
   ]
  },
  {
   "cell_type": "markdown",
   "id": "06b6a1b6",
   "metadata": {},
   "source": [
    "https://edabit.com/challenge/2hsyXkzDRewGSPpPE"
   ]
  },
  {
   "cell_type": "code",
   "execution_count": 45,
   "id": "3fd96cbc",
   "metadata": {},
   "outputs": [],
   "source": [
    "def weight(r, h):\n",
    "    from math import pi\n",
    "    return round((pi*(r**2)*h)/1000, 2)"
   ]
  },
  {
   "cell_type": "code",
   "execution_count": 46,
   "id": "9a8d48ce",
   "metadata": {},
   "outputs": [
    {
     "name": "stdout",
     "output_type": "stream",
     "text": [
      "Passed\n",
      "Passed\n",
      "Passed\n",
      "Passed\n",
      "Passed\n",
      "Passed\n",
      "Passed\n",
      "Passed\n"
     ]
    }
   ],
   "source": [
    "Test.assert_equals(weight(4, 10), 0.5)\n",
    "Test.assert_equals(weight(30, 60), 169.65)\n",
    "Test.assert_equals(weight(15, 10), 7.07)\n",
    "Test.assert_equals(weight(20, 40), 50.27)\n",
    "Test.assert_equals(weight(100, 30), 942.48)\n",
    "Test.assert_equals(weight(200, 300), 37699.11)\n",
    "Test.assert_equals(weight(15, 23), 16.26)\n",
    "Test.assert_equals(weight(22, 44), 66.9)"
   ]
  },
  {
   "cell_type": "markdown",
   "id": "598a1d62",
   "metadata": {},
   "source": [
    "https://edabit.com/challenge/6nSckbgCx9hjTwmcw"
   ]
  },
  {
   "cell_type": "code",
   "execution_count": 47,
   "id": "d97a099f",
   "metadata": {},
   "outputs": [],
   "source": [
    "def time_for_milk_and_cookies(date):\n",
    "    return (date.day==24 and date.month==12)"
   ]
  },
  {
   "cell_type": "code",
   "execution_count": 48,
   "id": "d5abcfdd",
   "metadata": {},
   "outputs": [
    {
     "name": "stdout",
     "output_type": "stream",
     "text": [
      "Passed\n",
      "Passed\n",
      "Passed\n",
      "Passed\n",
      "Passed\n"
     ]
    }
   ],
   "source": [
    "import datetime\n",
    "\n",
    "Test.assert_equals(time_for_milk_and_cookies(datetime.date(2013, 12, 24)), True)\n",
    "Test.assert_equals(time_for_milk_and_cookies(datetime.date(3000, 12, 24)), True)\n",
    "Test.assert_equals(time_for_milk_and_cookies(datetime.date(2013, 1, 23)), False)\n",
    "Test.assert_equals(time_for_milk_and_cookies(datetime.date(2010, 11, 2)), False)\n",
    "Test.assert_equals(time_for_milk_and_cookies(datetime.date(1980, 9, 24)), False)"
   ]
  },
  {
   "cell_type": "markdown",
   "id": "f33398ee",
   "metadata": {},
   "source": [
    "https://edabit.com/challenge/JSJEuuWduBB5hEX6k"
   ]
  },
  {
   "cell_type": "code",
   "execution_count": 49,
   "id": "b4401d9b",
   "metadata": {},
   "outputs": [],
   "source": [
    "def XO(text):\n",
    "    numx = text.lower().count('x')\n",
    "    numo = text.lower().count('o')\n",
    "    return numx == numo"
   ]
  },
  {
   "cell_type": "code",
   "execution_count": 50,
   "id": "752f0764",
   "metadata": {},
   "outputs": [
    {
     "name": "stdout",
     "output_type": "stream",
     "text": [
      "Passed\n",
      "Passed\n",
      "Passed\n",
      "Passed\n",
      "Passed\n",
      "Passed\n",
      "Passed\n",
      "Passed\n",
      "Passed\n",
      "Passed\n"
     ]
    }
   ],
   "source": [
    "Test.assert_equals(XO(\"ooxx\"), True)\n",
    "Test.assert_equals(XO(\"xooxx\"), False)\n",
    "Test.assert_equals(XO(\"ooxXm\"), True)\n",
    "Test.assert_equals(XO(\"zpzpzpp\"), True)\n",
    "Test.assert_equals(XO(\"zzoo\"), False)\n",
    "Test.assert_equals(XO(\"Xo\"), True)\n",
    "Test.assert_equals(XO(\"x\"), False)\n",
    "Test.assert_equals(XO(\"o\"), False)\n",
    "Test.assert_equals(XO(\"xxxoo\"), False)\n",
    "Test.assert_equals(XO(\"\"), True)"
   ]
  },
  {
   "cell_type": "markdown",
   "id": "aff54d7c",
   "metadata": {},
   "source": [
    "https://edabit.com/challenge/iRCwdDBkNcHM5QeAm"
   ]
  },
  {
   "cell_type": "code",
   "execution_count": 55,
   "id": "c32240db",
   "metadata": {},
   "outputs": [],
   "source": [
    "def card_hide(card):\n",
    "    nh=card[-4:]\n",
    "    l=len(card)-4\n",
    "    return '*'*l+nh"
   ]
  },
  {
   "cell_type": "code",
   "execution_count": 56,
   "id": "6ec36b77",
   "metadata": {},
   "outputs": [
    {
     "name": "stdout",
     "output_type": "stream",
     "text": [
      "Passed\n",
      "Passed\n",
      "Passed\n"
     ]
    }
   ],
   "source": [
    "Test.assert_equals(card_hide(\"1234123456785678\"), \"************5678\")\n",
    "Test.assert_equals(card_hide(\"8754456321113213\"), \"************3213\")\n",
    "Test.assert_equals(card_hide(\"35123413355523\"), \"**********5523\")"
   ]
  },
  {
   "cell_type": "code",
   "execution_count": 57,
   "id": "13f29424",
   "metadata": {},
   "outputs": [],
   "source": [
    "def square_areas_difference(r):\n",
    "    bsquare = (2*r)** 2\n",
    "    smsquare = 2*r**2\n",
    "    return bsquare - smsquare"
   ]
  },
  {
   "cell_type": "code",
   "execution_count": 58,
   "id": "8dee84e1",
   "metadata": {},
   "outputs": [
    {
     "name": "stdout",
     "output_type": "stream",
     "text": [
      "Passed\n",
      "Passed\n",
      "Passed\n",
      "Passed\n"
     ]
    }
   ],
   "source": [
    "Test.assert_equals(square_areas_difference(5), 50)\n",
    "Test.assert_equals(square_areas_difference(6), 72)\n",
    "Test.assert_equals(square_areas_difference(7), 98)\n",
    "Test.assert_equals(square_areas_difference(17), 578)"
   ]
  },
  {
   "cell_type": "code",
   "execution_count": null,
   "id": "2c531d08",
   "metadata": {},
   "outputs": [],
   "source": []
  }
 ],
 "metadata": {
  "kernelspec": {
   "display_name": "Python 3 (ipykernel)",
   "language": "python",
   "name": "python3"
  },
  "language_info": {
   "codemirror_mode": {
    "name": "ipython",
    "version": 3
   },
   "file_extension": ".py",
   "mimetype": "text/x-python",
   "name": "python",
   "nbconvert_exporter": "python",
   "pygments_lexer": "ipython3",
   "version": "3.11.4"
  }
 },
 "nbformat": 4,
 "nbformat_minor": 5
}
